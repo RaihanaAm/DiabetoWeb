{
 "cells": [
  {
   "cell_type": "markdown",
   "id": "d5ff7a90",
   "metadata": {},
   "source": [
    "### Création des tableau Postgres ."
   ]
  },
  {
   "cell_type": "code",
   "execution_count": null,
   "id": "b18b9941",
   "metadata": {},
   "outputs": [],
   "source": [
    "# CREATE TABLE Patients (\n",
    "#     id SERIAL PRIMARY KEY,\n",
    "#     doctor_id INT,\n",
    "#     name VARCHAR(255),\n",
    "#     age INT,\n",
    "#     sex INT,\n",
    "#     glucose INT,\n",
    "#     bmi INT,\n",
    "#     bloodpressure INT,\n",
    "#     pedigree INT,\n",
    "#     created DATE DEFAULT CURRENT_DATE,\n",
    "#     CONSTRAINT fk_doctor FOREIGN KEY (doctor_id) REFERENCES médecins(id) ON DELETE SET NULL       \n",
    "# );\n"
   ]
  },
  {
   "cell_type": "markdown",
   "id": "04677697",
   "metadata": {},
   "source": [
    "### Insertion dans le tableaux"
   ]
  },
  {
   "cell_type": "code",
   "execution_count": null,
   "id": "ad847d67",
   "metadata": {},
   "outputs": [],
   "source": [
    "# INSERT INTO médecins (username, password, email)\n",
    "# VALUES \n",
    "#   ('dr_ahmed', 'pass123', 'ahmed@example.com'),\n",
    "#   ('dr_sara', 'sara456', 'sara@example.com'),\n",
    "#   ('dr_nabil', 'nabil789', 'nabil@example.com');\n"
   ]
  },
  {
   "cell_type": "markdown",
   "id": "8cbccc20",
   "metadata": {},
   "source": [
    "### supprimer Medcin"
   ]
  },
  {
   "cell_type": "code",
   "execution_count": null,
   "id": "40ae3aaf",
   "metadata": {},
   "outputs": [],
   "source": [
    "\n",
    "# DELETE FROM medecins\n",
    "# WHERE id = 5;"
   ]
  },
  {
   "cell_type": "markdown",
   "id": "3abff6ca",
   "metadata": {},
   "source": [
    "### La connexion avec la Base de donnés"
   ]
  },
  {
   "cell_type": "code",
   "execution_count": null,
   "id": "6aab9460",
   "metadata": {},
   "outputs": [],
   "source": [
    "import os\n",
    "from dotenv import load_dotenv\n",
    "from sqlalchemy import create_engine, MetaData , Table,Column ,Integer , String ,Float ,DateTime ,ForeignKey ,insert ,select\n",
    "load_dotenv()\n",
    "    \n",
    "DB_USER = os.getenv(\"DB_USER\")\n",
    "DB_PASSWORD = os.getenv(\"DB_PASSWORD\")\n",
    "DB_HOST = os.getenv(\"DB_HOST\")\n",
    "DB_PORT = os.getenv(\"DB_PORT\")\n",
    "DB_NAME = os.getenv(\"DB_NAME\")\n",
    "\n",
    "DATABASE_URL = f\"postgresql+psycopg2://{DB_USER}:{DB_PASSWORD}@{DB_HOST}:{DB_PORT}/{DB_NAME}\"\n",
    "\n",
    "engine = create_engine(DATABASE_URL)   \n",
    "\n",
    "# Connexion et lecture\n",
    "metadata = MetaData()\n",
    "patients = Table('patients', metadata, autoload_with=engine)\n",
    "\n",
    "# Faire la requête SELECT *\n",
    "with engine.connect() as connection:\n",
    "    query = select(patients)\n",
    "    result = connection.execute(query)\n",
    "\n",
    "    for row in result:\n",
    "        print(row)  # Affiche chaque ligne sous forme de dictionnaire\n",
    "\n"
   ]
  },
  {
   "cell_type": "markdown",
   "id": "d8d4f7ea",
   "metadata": {},
   "source": [
    "\n",
    "\n",
    "\n",
    "* Les routes (définies avec @app.route) sont des règles de navigation qui disent à Flask :\n",
    "* \"Quand un utilisateur visite cette URL, exécute cette fonction Python.\""
   ]
  }
 ],
 "metadata": {
  "language_info": {
   "name": "python"
  }
 },
 "nbformat": 4,
 "nbformat_minor": 5
}
