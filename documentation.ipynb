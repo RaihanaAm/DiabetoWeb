{
 "cells": [
  {
   "cell_type": "markdown",
   "id": "d5ff7a90",
   "metadata": {},
   "source": [
    "### Création des tableau Postgres ."
   ]
  },
  {
   "cell_type": "code",
   "execution_count": null,
   "id": "b18b9941",
   "metadata": {},
   "outputs": [],
   "source": [
    "# CREATE TABLE Patients (\n",
    "#     id SERIAL PRIMARY KEY,\n",
    "#     doctor_id INT,\n",
    "#     name VARCHAR(255),\n",
    "#     age INT,\n",
    "#     sex INT,\n",
    "#     glucose INT,\n",
    "#     bmi INT,\n",
    "#     bloodpressure INT,\n",
    "#     pedigree INT,\n",
    "#     created DATE DEFAULT CURRENT_DATE,\n",
    "#     CONSTRAINT fk_doctor FOREIGN KEY (doctor_id) REFERENCES médecins(id) ON DELETE SET NULL       \n",
    "# );\n"
   ]
  },
  {
   "cell_type": "markdown",
   "id": "04677697",
   "metadata": {},
   "source": [
    "### Insertion dans le tableaux"
   ]
  },
  {
   "cell_type": "code",
   "execution_count": null,
   "id": "ad847d67",
   "metadata": {},
   "outputs": [],
   "source": [
    "# INSERT INTO médecins (username, password, email)\n",
    "# VALUES \n",
    "#   ('dr_ahmed', 'pass123', 'ahmed@example.com'),\n",
    "#   ('dr_sara', 'sara456', 'sara@example.com'),\n",
    "#   ('dr_nabil', 'nabil789', 'nabil@example.com');\n"
   ]
  },
  {
   "cell_type": "markdown",
   "id": "3abff6ca",
   "metadata": {},
   "source": [
    "### La connexion avec la Base de donnés"
   ]
  }
 ],
 "metadata": {
  "language_info": {
   "name": "python"
  }
 },
 "nbformat": 4,
 "nbformat_minor": 5
}
